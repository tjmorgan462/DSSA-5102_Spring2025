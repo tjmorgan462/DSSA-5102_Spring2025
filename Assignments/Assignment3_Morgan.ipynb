{
 "cells": [
  {
   "cell_type": "markdown",
   "id": "4cdc446b",
   "metadata": {},
   "source": [
    "# Assignment #3 - Data Gathering and Warehousing - DSSA-5102\n",
    "\n",
    "Instructor: Melissa Laurino</br>\n",
    "Spring 2025</br>\n",
    "\n",
    "Name: Thompson Morgan\n",
    "</br>\n",
    "Date: 2/13/25\n",
    "<br>\n",
    "<br>\n",
    "We introduced in Assignment #2 the importance of data cleaning and why accurate data is needed when making informed decisions in our fields. In our assignment, we were faced with making the decision whether or not to omit data we may not know too much about yet. \n",
    "<br>\n",
    "<b>Metadata</b> is data about the data. Metadata can be structural, administrative, statistical and much more.\n",
    "<br>\n",
    "When building your data warehouses it is important to have data cleaning protocols established for your organization BEFORE you start to clean the data.<br><br>\n",
    "Your task for Assignment #3 is to:<br>\n",
    "-  Enhance your Github account. Add your contact (Stockton) email, your LinkedIn profile, a description, etc.\n",
    "-  Create a Github repository for this class. It can be public or private. If you choose to make it private, add the instructor as a collaborator. @MelissaLaurino<br>\n",
    "-  It is suggested to create your repository using the Git terminal commands. See Blackboard for step by step instructions.\n",
    "-  Staying Connected -> Visit the Discussion Board and share your username with classmates. Follow your classmates on Github.<br>\n",
    "-  Upload Assignment #1, #2, and your clean data (If you created a physical clean copy of it, otherwise the link is fine) to your new/established Github repository. For every repository you create, you'll automatically have the option to include a README.md (Meta data) file. <br>\n",
    "-  Create a descriptive and very detailed README.md file *for your dataset* you have chosen to continue with. Insert a link to your Github README.md repository file in the comments section on Blackboard, or attach this assignment for submission.\n",
    "<br><br>\n",
    "Github meta data file formatting cheat sheet: https://docs.github.com/en/get-started/writing-on-github/getting-started-with-writing-and-formatting-on-github/basic-writing-and-formatting-syntax <br>\n",
    "Jupyter Notebook formatting cheat sheet: https://www.ibm.com/docs/en/watson-studio-local/1.2.3?topic=notebooks-markdown-jupyter-cheatsheet"
   ]
  },
  {
   "cell_type": "markdown",
   "id": "a3948dda",
   "metadata": {},
   "source": [
    "Include all of the following information on your README.md file for full credit. Be specific!:<br>\n",
    "<br>\n",
    "More research may be needed on your dataset, besides general exploration, to answer the different types of metadata questions. If you are exploring your data at a greater depth to answer these questions, you can explore on this new document or continue working in Assignment #2.<br>\n",
    "<br>\n",
    "(Refer to the Powerpoint notes on Blackboard for examples and guidance.)\n",
    "\n",
    "-  Where is the data from?: ​ The data is from the National Center for Health Statistics and published by the Centers for Disease Control and Prevention. The data was first collected 4/23/20 and last updated 9/16/24, as of the date of access 2/13/25. The data is a csv file. <br><br> National Center for Health Statistics. <i>Indicators of Anxiety or Depression Based on Reported Frequency of Symptoms During Last 7 Days.</i> Data accessed 2/13/25. Available from: https://data.cdc.gov/d/8pt5-q6wp.\n",
    "\n",
    "-  How was it collected?: ​ The data was collected using an online questionnaire sent by both email and text message. The questions included: <br><br>\"Over the last 7 days, how often have you been bothered by … having little interest or pleasure in doing things? Would you say not at all, several days, more than half the days, or nearly every day? Select only one answer.\" <br>\"Over the last 7 days, how often have you been bothered by … feeling down, depressed, or hopeless? Would you say not at all, several days, more than half the days, or nearly every day? Select only one answer.\" <br>\"Over the last 7 days, how often have you been bothered by the following problems … Feeling nervous, anxious, or on edge? Would you say not at all, several days, more than half the days, or nearly every day? Select only one answer.\" <br>\"Over the last 7 days, how often have you been bothered by the following problems … Not being able to stop or control worrying? Would you say not at all, several days, more than half the days, or nearly every day? Select only one answer.\"<br><br>The answers to the provided questions are then assigned a numerical value: \"not at all\" = 0, \"several days\" = 1, \"more than half the days\" = 2, and \"nearly every day\" = 3. The two responses for each disorder are added together. For scores of 3 or greater, further evaluation by a health professional is recommended, as these scores have been shown to be associated with diagnoses of the respective disorders.\n",
    "\n",
    "-  How was it extracted?: ​ The data was exported from https://data.cdc.gov/NCHS/Indicators-of-Anxiety-or-Depression-Based-on-Repor/8pt5-q6wp/about_data as a .csv file.\n",
    "\n",
    "-  What program was used to clean the data?: ​ After downloading the data, the .csv file was read into a JupyterLab notebook and cleaned using python.\n",
    "\n",
    "-  How was the data cleaned or transformed? Be specific.: ​ The column names were changed to lowercase with no spaces or special characters to use SQL in the future. NA values were then found and determined to not be an issue for future use of the dataset because of the nature of the missing value's locations. Errors in the categorical data were then searched for by using the unique function, and none were found. The 'time_period_start' and 'time_period_end' columns were also converted into datetime format.\n",
    "\n",
    "-  What are the units of the numeric data?: ​ The 'value', 'low_ci', and 'high_ci' columns are all percentages, the rest have no units.\n",
    "\n",
    "-  What were the formulas used in column creation(s)?: ​ For the 'confidence_interval' column, it was defined as \"low_ci[i] - high_ci[i]\".\n",
    "\n",
    "-  How is the data validated to ensure consistency?: ​ All of the categorical data was checked using the unique function to make sure everything was case-sensitive to ensure consistency in the entries.\n",
    "\n",
    "-  What are the definitions for the column names? Include all columns of your dataset and the type of data it is.: ​\n",
    "\n",
    "    -  indicator: object, states whether the row is about symptoms of depression, anxiety, or both\n",
    "    -  group: object, the demographic\n",
    "    -  state: object, the location in the United States\n",
    "    -  subgroup: object, a more specific definition of the demographic\n",
    "    -  phase: object, the phase number of the study\n",
    "    -  time_period: int64, the number of the study, i.e. the first study would be given a value of 1\n",
    "    -  time_period_label: object, the start and end dates given as an interval of time\n",
    "    -  time_period_start: datetime64[ns], the day a study starts\n",
    "    -  time_period_end: datetime64[ns], the day a study ends\n",
    "    -  value: float64, the percentage of people that gave an answer of at least 1 to the questionnaire\n",
    "    -  low_ci: float64, the low point of the confidence interval\n",
    "    -  high_ci: float64, the high point of the confidence interval\n",
    "    -  confidence_interval: object, the mean of the 'value' plus and minus the variation in the 'value'\n",
    "    -  quartile_range: object, the difference between the 75th and 25th percentiles <br><br>\n",
    "\n",
    "-  If there are set variable options in your dataset, what are their definitions?: ​ There are no set variable options.\n",
    "\n",
    "-  What are the regulations to using the data?: ​ The dataset is intended for public access and use.\n",
    "\n",
    "-  If you are referencing sources, be sure to include citations/references as needed.\n"
   ]
  },
  {
   "cell_type": "markdown",
   "id": "4ca19ef3",
   "metadata": {},
   "source": [
    "<b>Link to Github account:<b> https://github.com/tjmorgan462<br>\n",
    "<b>Link to README.md for our class repository:<b> https://github.com/tjmorgan462/DSSA-5102_DGW/blob/main/README.md<br>"
   ]
  },
  {
   "cell_type": "markdown",
   "id": "ea9a67e9-bcd6-42bc-bbfa-142dbf3fa621",
   "metadata": {},
   "source": [
    "Feel free to use this document to continue to explore your data to answer the questions above, or continue working in the Assignment #1 & #2 document."
   ]
  }
 ],
 "metadata": {
  "kernelspec": {
   "display_name": "Python [conda env:base] *",
   "language": "python",
   "name": "conda-base-py"
  },
  "language_info": {
   "codemirror_mode": {
    "name": "ipython",
    "version": 3
   },
   "file_extension": ".py",
   "mimetype": "text/x-python",
   "name": "python",
   "nbconvert_exporter": "python",
   "pygments_lexer": "ipython3",
   "version": "3.12.7"
  }
 },
 "nbformat": 4,
 "nbformat_minor": 5
}
