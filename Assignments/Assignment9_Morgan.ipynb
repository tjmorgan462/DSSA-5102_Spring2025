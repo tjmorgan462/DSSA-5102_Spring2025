{
 "cells": [
  {
   "cell_type": "markdown",
   "id": "f369c6ca",
   "metadata": {},
   "source": [
    "# Assignment #9 - Data Gathering and Warehousing - DSSA-5102\n",
    "\n",
    "Instructor: Melissa Laurino<br>\n",
    "Spring 2025<br>\n",
    "\n",
    "Name: Thompson Morgan\n",
    "<br>\n",
    "Date: 4/24/25\n",
    "<br>\n",
    "<br>\n",
    "**At this time in the semester:** <br>\n",
    "- We have explored a dataset. <br>\n",
    "- We have cleaned our dataset. <br>\n",
    "- We created a Github account with a repository for this class and included a metadata read me file about our data. <br>\n",
    "- We introduced general SQL syntax, queries, and applications in Python.<br>\n",
    "- Created our own databases from scratch using MySQL Workbench and Python with SQLAlchemy on our local server and locally on our machine.\n",
    "- Populated our databases with the data we cleaned at the start of the semester.\n",
    "<br>\n",
    "\n",
    "At this point, we have discussed all major statements used with SQL, but the possibilities are endless when it comes to data! Below we will explore some miscellaneous statements and tools that may be useful with your database.<br>\n",
    "\n",
    "<br>\n",
    "\n",
    "Read Chapter 7 & 10 in Getting Started with SQL by Thomas Nield available on Blackboard. <br>\n",
    "A quick reference for SQL commands: https://www.w3schools.com/sql/default.asp <br>\n",
    "\n",
    "Review the powerpoint and other readings specified on Blackboard in the Discussion Board.<br>\n",
    "\n",
    "In the event your database does not meet the requirements below to answer the question, please use the database provided in Assignment #4 and #5. Remember to credit your data source, especially when posting your assignments to Github.<br>\n",
    "\n",
    "Feel free to use your preferred library and method for the exploration below. Now that all of our data is loaded onto the MySQL Workbench server, you can even take the assignment a step further and complete it all within SQL without Jupyter Notebook!<br>\n",
    "\n",
    "Follow the instructions below to complete the assignment. Be sure to comment **all** code and answer **all** questions in markdown for full credit. Please submit this assignment with a link to it posted to your Github.<br>\n",
    "\n",
    "**Data origin:** <br>\n",
    "I am using the murder mystery database provided in Assignment #4 and #5. This database was created by @NUKnightLab on Github and can be found here: https://github.com/NUKnightLab/sql-mysteries"
   ]
  },
  {
   "cell_type": "code",
   "execution_count": 2,
   "id": "4b6bbe50",
   "metadata": {},
   "outputs": [],
   "source": [
    "# Load necessary packages:\n",
    "from sqlalchemy import create_engine, Column, String, Integer, Boolean, BigInteger, Float, text, inspect # Database navigation\n",
    "from sqlalchemy.ext.declarative import declarative_base\n",
    "from sqlalchemy.orm import sessionmaker\n",
    "import mysql.connector\n",
    "import sqlite3 # A second option for working with databases\n",
    "import pandas as pd # Python data manilpulation\n",
    "import numpy as np # Populating our tables"
   ]
  },
  {
   "cell_type": "code",
   "execution_count": 4,
   "id": "9f5342be-9f6d-46b5-ae5a-04eca8c4adec",
   "metadata": {},
   "outputs": [],
   "source": [
    "# Connect to our .db file using library SQLAlchemy\n",
    "db_path = \"sql-murder-mystery.db\"\n",
    "engine = create_engine(f\"sqlite:///{db_path}\") # Use the create_engine function to connect to the database"
   ]
  },
  {
   "cell_type": "code",
   "execution_count": 6,
   "id": "503400c7-76dd-4eca-9282-6902b7a88cae",
   "metadata": {},
   "outputs": [
    {
     "name": "stdout",
     "output_type": "stream",
     "text": [
      "Tables in the database: ['crime_scene_report', 'drivers_license', 'facebook_event_checkin', 'get_fit_now_check_in', 'get_fit_now_member', 'income', 'interview', 'person', 'solution']\n"
     ]
    }
   ],
   "source": [
    "# Write a query to list the table names of the database:\n",
    "inspector = inspect(engine)  # Create an inspector to examine the database\n",
    "tables = inspector.get_table_names()  # Get all table names from the database\n",
    "print(\"Tables in the database:\", tables)"
   ]
  },
  {
   "cell_type": "markdown",
   "id": "40c58ed6",
   "metadata": {},
   "source": [
    "#### CASE Statements\n",
    "Case statements are similar to the if-then-else statements in programming. The data that meets the case statements in the database will be returned. You start a CASE statement with the word CASE and conclude it with an END. Between those keywords, you specify each condition with a WHEN [condition] THEN [value], where the condition and the values are specified by you.\n",
    "\n",
    "Nield, Thomas. Getting Started with SQL (p. 71). O'Reilly Media. Kindle Edition. <br>\n",
    "<br>\n",
    "Write your question you are answering with your data query. <br>\n",
    "<br>\n",
    "**Example Question:** How many people in the database are 4' something, 5' something, or 6' something tall?\n",
    "<br>\n",
    "**What tables are we joining? (If any):** None"
   ]
  },
  {
   "cell_type": "code",
   "execution_count": 8,
   "id": "1a4ca6e9",
   "metadata": {},
   "outputs": [
    {
     "data": {
      "text/html": [
       "<div>\n",
       "<style scoped>\n",
       "    .dataframe tbody tr th:only-of-type {\n",
       "        vertical-align: middle;\n",
       "    }\n",
       "\n",
       "    .dataframe tbody tr th {\n",
       "        vertical-align: top;\n",
       "    }\n",
       "\n",
       "    .dataframe thead th {\n",
       "        text-align: right;\n",
       "    }\n",
       "</style>\n",
       "<table border=\"1\" class=\"dataframe\">\n",
       "  <thead>\n",
       "    <tr style=\"text-align: right;\">\n",
       "      <th></th>\n",
       "      <th>count</th>\n",
       "      <th>height_group</th>\n",
       "    </tr>\n",
       "  </thead>\n",
       "  <tbody>\n",
       "    <tr>\n",
       "      <th>0</th>\n",
       "      <td>3613</td>\n",
       "      <td>Between 5 and 6 feet tall</td>\n",
       "    </tr>\n",
       "    <tr>\n",
       "      <th>1</th>\n",
       "      <td>3389</td>\n",
       "      <td>Between 6 and 7 feet tall</td>\n",
       "    </tr>\n",
       "    <tr>\n",
       "      <th>2</th>\n",
       "      <td>3004</td>\n",
       "      <td>Between 4 and 5 feet tall</td>\n",
       "    </tr>\n",
       "    <tr>\n",
       "      <th>3</th>\n",
       "      <td>1</td>\n",
       "      <td>7 feet tall or over</td>\n",
       "    </tr>\n",
       "  </tbody>\n",
       "</table>\n",
       "</div>"
      ],
      "text/plain": [
       "   count               height_group\n",
       "0   3613  Between 5 and 6 feet tall\n",
       "1   3389  Between 6 and 7 feet tall\n",
       "2   3004  Between 4 and 5 feet tall\n",
       "3      1        7 feet tall or over"
      ]
     },
     "execution_count": 8,
     "metadata": {},
     "output_type": "execute_result"
    }
   ],
   "source": [
    "with engine.connect() as connection: # Establish a connection\n",
    "    case_one = text(\"\"\"SELECT COUNT(*) AS count,\n",
    "                       CASE\n",
    "                               WHEN height >= 84 THEN '7 feet tall or over'\n",
    "                               WHEN height >= 72 THEN 'Between 6 and 7 feet tall'\n",
    "                               WHEN height >= 60 THEN 'Between 5 and 6 feet tall'\n",
    "                               WHEN height >= 48 THEN 'Between 4 and 5 feet tall'\n",
    "                               ELSE 'Under 4 feet tall'\n",
    "                           END AS height_group\n",
    "                       FROM drivers_license\n",
    "                       GROUP BY height_group\n",
    "                       ORDER BY count DESC\n",
    "                       \"\"\") # Define the query - text() ensures that the query string is read as a SQL expression\n",
    "    case_one = pd.read_sql(case_one, connection) # Use pandas to read the sql query with the connection to the database\n",
    "\n",
    "# Print the results\n",
    "case_one"
   ]
  },
  {
   "cell_type": "markdown",
   "id": "db5bb8cc",
   "metadata": {},
   "source": [
    "**CASE STATEMENT**\n",
    "<br>\n",
    "Write a second CASE statement!\n",
    "\n",
    "Write your question you are answering with your data query. <br>\n",
    "<br>\n",
    "**Question:** How many people checked in to the gym before, after, and on the day of the murder we previously solved?\n",
    "<br>\n",
    "**What tables are we joining? (If any):** None"
   ]
  },
  {
   "cell_type": "code",
   "execution_count": 10,
   "id": "aaeb520d",
   "metadata": {},
   "outputs": [
    {
     "data": {
      "text/html": [
       "<div>\n",
       "<style scoped>\n",
       "    .dataframe tbody tr th:only-of-type {\n",
       "        vertical-align: middle;\n",
       "    }\n",
       "\n",
       "    .dataframe tbody tr th {\n",
       "        vertical-align: top;\n",
       "    }\n",
       "\n",
       "    .dataframe thead th {\n",
       "        text-align: right;\n",
       "    }\n",
       "</style>\n",
       "<table border=\"1\" class=\"dataframe\">\n",
       "  <thead>\n",
       "    <tr style=\"text-align: right;\">\n",
       "      <th></th>\n",
       "      <th>count</th>\n",
       "      <th>days_group</th>\n",
       "    </tr>\n",
       "  </thead>\n",
       "  <tbody>\n",
       "    <tr>\n",
       "      <th>0</th>\n",
       "      <td>2112</td>\n",
       "      <td>Before the murder</td>\n",
       "    </tr>\n",
       "    <tr>\n",
       "      <th>1</th>\n",
       "      <td>587</td>\n",
       "      <td>After the murder</td>\n",
       "    </tr>\n",
       "    <tr>\n",
       "      <th>2</th>\n",
       "      <td>4</td>\n",
       "      <td>The day of the murder</td>\n",
       "    </tr>\n",
       "  </tbody>\n",
       "</table>\n",
       "</div>"
      ],
      "text/plain": [
       "   count             days_group\n",
       "0   2112      Before the murder\n",
       "1    587       After the murder\n",
       "2      4  The day of the murder"
      ]
     },
     "execution_count": 10,
     "metadata": {},
     "output_type": "execute_result"
    }
   ],
   "source": [
    "with engine.connect() as connection: # Establish a connection\n",
    "    case_two = text(\"\"\"SELECT COUNT(*) AS count,\n",
    "                       CASE\n",
    "                               WHEN check_in_date > 20180115 THEN 'After the murder'\n",
    "                               WHEN check_in_date = 20180115 THEN 'The day of the murder'\n",
    "                               ELSE 'Before the murder'\n",
    "                           END AS days_group\n",
    "                       FROM get_fit_now_check_in\n",
    "                       GROUP BY days_group\n",
    "                       ORDER BY count DESC\n",
    "                       \"\"\") # Define the query - text() ensures that the query string is read as a SQL expression\n",
    "    case_two = pd.read_sql(case_two, connection) # Use pandas to read the sql query with the connection to the database\n",
    "\n",
    "# Print the results\n",
    "case_two"
   ]
  },
  {
   "cell_type": "markdown",
   "id": "ccbfb111",
   "metadata": {},
   "source": [
    "**CASE STATEMENT**\n",
    "<br>\n",
    "Write a third CASE statement!\n",
    "\n",
    "Write your question you are answering with your data query. <br>\n",
    "<br>\n",
    "**Question:** How many people in the database make either 5, 6, or 7 figures for their annual income?\n",
    "<br>\n",
    "**What tables are we joining? (If any):** None"
   ]
  },
  {
   "cell_type": "code",
   "execution_count": 12,
   "id": "f43042fe",
   "metadata": {},
   "outputs": [
    {
     "data": {
      "text/html": [
       "<div>\n",
       "<style scoped>\n",
       "    .dataframe tbody tr th:only-of-type {\n",
       "        vertical-align: middle;\n",
       "    }\n",
       "\n",
       "    .dataframe tbody tr th {\n",
       "        vertical-align: top;\n",
       "    }\n",
       "\n",
       "    .dataframe thead th {\n",
       "        text-align: right;\n",
       "    }\n",
       "</style>\n",
       "<table border=\"1\" class=\"dataframe\">\n",
       "  <thead>\n",
       "    <tr style=\"text-align: right;\">\n",
       "      <th></th>\n",
       "      <th>count</th>\n",
       "      <th>salary_group</th>\n",
       "    </tr>\n",
       "  </thead>\n",
       "  <tbody>\n",
       "    <tr>\n",
       "      <th>0</th>\n",
       "      <td>7423</td>\n",
       "      <td>5 Figures</td>\n",
       "    </tr>\n",
       "    <tr>\n",
       "      <th>1</th>\n",
       "      <td>91</td>\n",
       "      <td>6 Figures</td>\n",
       "    </tr>\n",
       "  </tbody>\n",
       "</table>\n",
       "</div>"
      ],
      "text/plain": [
       "   count salary_group\n",
       "0   7423    5 Figures\n",
       "1     91    6 Figures"
      ]
     },
     "execution_count": 12,
     "metadata": {},
     "output_type": "execute_result"
    }
   ],
   "source": [
    "with engine.connect() as connection: # Establish a connection\n",
    "    case_three = text(\"\"\"SELECT COUNT(*) AS count,\n",
    "                         CASE\n",
    "                                 WHEN annual_income >= 1000000 THEN '7 Figures'\n",
    "                                 WHEN annual_income >= 100000 THEN '6 Figures'\n",
    "                                 WHEN annual_income >= 10000 THEN '5 Figures'\n",
    "                                 ELSE '4 Figures or less'\n",
    "                             END AS salary_group\n",
    "                         FROM income\n",
    "                         GROUP BY salary_group\n",
    "                         ORDER BY count DESC\n",
    "                         \"\"\") # Define the query - text() ensures that the query string is read as a SQL expression\n",
    "    case_three = pd.read_sql(case_three, connection) # Use pandas to read the sql query with the connection to the database\n",
    "\n",
    "# Print the results\n",
    "case_three"
   ]
  },
  {
   "cell_type": "markdown",
   "id": "00dfccbc",
   "metadata": {},
   "source": [
    "**NULL**\n",
    "<br>\n",
    "As with all data, NULL values are fields with no data. Null data can be useful to know with the INSERT INTO statement below.\n",
    "\n",
    "Find the NULL data within your database. Write your question you are answering with your data query. <br>\n",
    "<br>\n",
    "**Question:** Is there anyone in the database who does not have their driver's license?"
   ]
  },
  {
   "cell_type": "code",
   "execution_count": 14,
   "id": "ff36e23c",
   "metadata": {},
   "outputs": [
    {
     "data": {
      "text/html": [
       "<div>\n",
       "<style scoped>\n",
       "    .dataframe tbody tr th:only-of-type {\n",
       "        vertical-align: middle;\n",
       "    }\n",
       "\n",
       "    .dataframe tbody tr th {\n",
       "        vertical-align: top;\n",
       "    }\n",
       "\n",
       "    .dataframe thead th {\n",
       "        text-align: right;\n",
       "    }\n",
       "</style>\n",
       "<table border=\"1\" class=\"dataframe\">\n",
       "  <thead>\n",
       "    <tr style=\"text-align: right;\">\n",
       "      <th></th>\n",
       "      <th>name</th>\n",
       "    </tr>\n",
       "  </thead>\n",
       "  <tbody>\n",
       "  </tbody>\n",
       "</table>\n",
       "</div>"
      ],
      "text/plain": [
       "Empty DataFrame\n",
       "Columns: [name]\n",
       "Index: []"
      ]
     },
     "execution_count": 14,
     "metadata": {},
     "output_type": "execute_result"
    }
   ],
   "source": [
    "with engine.connect() as connection: # Establish a connection\n",
    "    null = text(\"\"\"SELECT name\n",
    "                   FROM person\n",
    "                   WHERE license_id IS NULL\n",
    "                   \"\"\") # Define the query - text() ensures that the query string is read as a SQL expression\n",
    "    null = pd.read_sql(null, connection) # Use pandas to read the sql query with the connection to the database\n",
    "\n",
    "# Print the results\n",
    "null"
   ]
  },
  {
   "cell_type": "markdown",
   "id": "08b82442-b3f0-43ed-942b-3ff640c7aad0",
   "metadata": {},
   "source": [
    "There were no results, so everyone who is in the database has their driver's license."
   ]
  },
  {
   "cell_type": "markdown",
   "id": "501a12a4",
   "metadata": {},
   "source": [
    "**INSERT INTO**\n",
    "<br>\n",
    "You can insert new records into a table as needed using the INSERT INTO statement. If you choose to populate a table with certain records and not others, the rest of the fields will remain empty/NULL.\n",
    "<br>\n",
    "For INSERT INTO, we are not querying the database, instead we are ADDING to it. We do not need to use dbGetQuery(), but instead, dbExecute()!\n",
    "<br><br>\n",
    "**Objective:** Add my own name into the 'persons' table.\n",
    "<br>\n",
    "**What table(s) are we adding a record to?** person"
   ]
  },
  {
   "cell_type": "code",
   "execution_count": 16,
   "id": "2f64f50d",
   "metadata": {},
   "outputs": [],
   "source": [
    "with engine.connect() as connection: # Establish a connection\n",
    "    connection.execute(text(\"\"\"INSERT INTO person (name)\n",
    "                               VALUES ('Thompson Morgan')\n",
    "                               \"\"\")) # Insert into the 'person' table the specified value for the 'name' field"
   ]
  },
  {
   "cell_type": "markdown",
   "id": "eb27ad86",
   "metadata": {},
   "source": [
    "**MIN() and MAX()**\n",
    "<br>\n",
    "You can use these statements alone or in combination with the CASE statements above.<br>\n",
    "The IN operator in a WHERE clause lets you filter for multiple values at once. You can also exclude certain values by using the NOT IN operator.\n",
    "<br>\n",
    "\n",
    "**Question:** What is the highest and lowest annual income in the database?\n",
    "<br>\n",
    "**What table(s) are we joining? (If any)** None"
   ]
  },
  {
   "cell_type": "code",
   "execution_count": 18,
   "id": "f1a97c9d",
   "metadata": {},
   "outputs": [
    {
     "data": {
      "text/html": [
       "<div>\n",
       "<style scoped>\n",
       "    .dataframe tbody tr th:only-of-type {\n",
       "        vertical-align: middle;\n",
       "    }\n",
       "\n",
       "    .dataframe tbody tr th {\n",
       "        vertical-align: top;\n",
       "    }\n",
       "\n",
       "    .dataframe thead th {\n",
       "        text-align: right;\n",
       "    }\n",
       "</style>\n",
       "<table border=\"1\" class=\"dataframe\">\n",
       "  <thead>\n",
       "    <tr style=\"text-align: right;\">\n",
       "      <th></th>\n",
       "      <th>MIN(annual_income)</th>\n",
       "      <th>MAX(annual_income)</th>\n",
       "    </tr>\n",
       "  </thead>\n",
       "  <tbody>\n",
       "    <tr>\n",
       "      <th>0</th>\n",
       "      <td>10000</td>\n",
       "      <td>498500</td>\n",
       "    </tr>\n",
       "  </tbody>\n",
       "</table>\n",
       "</div>"
      ],
      "text/plain": [
       "   MIN(annual_income)  MAX(annual_income)\n",
       "0               10000              498500"
      ]
     },
     "execution_count": 18,
     "metadata": {},
     "output_type": "execute_result"
    }
   ],
   "source": [
    "with engine.connect() as connection: # Establish a connection\n",
    "    min_max = text(\"\"\"SELECT MIN(annual_income), MAX(annual_income)\n",
    "                      FROM income\n",
    "                      \"\"\") # Define the query - text() ensures that the query string is read as a SQL expression\n",
    "    min_max = pd.read_sql(min_max, connection) # Use pandas to read the sql query with the connection to the database\n",
    "\n",
    "# Print the results\n",
    "min_max"
   ]
  },
  {
   "cell_type": "markdown",
   "id": "ceb2cc17",
   "metadata": {},
   "source": [
    "Combine CASE statement with Min() and Max() for a more detailed query of your data:\n",
    "<br><br>\n",
    "**Question:** What is the height of the tallest female/male, and the shortest female/male?\n",
    "<br>\n",
    "**What table(s) are we joining?** None"
   ]
  },
  {
   "cell_type": "code",
   "execution_count": 20,
   "id": "581f5376",
   "metadata": {},
   "outputs": [
    {
     "data": {
      "text/html": [
       "<div>\n",
       "<style scoped>\n",
       "    .dataframe tbody tr th:only-of-type {\n",
       "        vertical-align: middle;\n",
       "    }\n",
       "\n",
       "    .dataframe tbody tr th {\n",
       "        vertical-align: top;\n",
       "    }\n",
       "\n",
       "    .dataframe thead th {\n",
       "        text-align: right;\n",
       "    }\n",
       "</style>\n",
       "<table border=\"1\" class=\"dataframe\">\n",
       "  <thead>\n",
       "    <tr style=\"text-align: right;\">\n",
       "      <th></th>\n",
       "      <th>tallest_female</th>\n",
       "      <th>tallest_male</th>\n",
       "      <th>shortest_female</th>\n",
       "      <th>shortest_male</th>\n",
       "    </tr>\n",
       "  </thead>\n",
       "  <tbody>\n",
       "    <tr>\n",
       "      <th>0</th>\n",
       "      <td>82</td>\n",
       "      <td>84</td>\n",
       "      <td>50</td>\n",
       "      <td>50</td>\n",
       "    </tr>\n",
       "  </tbody>\n",
       "</table>\n",
       "</div>"
      ],
      "text/plain": [
       "   tallest_female  tallest_male  shortest_female  shortest_male\n",
       "0              82            84               50             50"
      ]
     },
     "execution_count": 20,
     "metadata": {},
     "output_type": "execute_result"
    }
   ],
   "source": [
    "with engine.connect() as connection: # Establish a connection\n",
    "    min_max_case = text(\"\"\"SELECT MAX(CASE WHEN gender = 'female' THEN height END) AS tallest_female,\n",
    "                            MAX(CASE WHEN gender = 'male' THEN height END) AS tallest_male,\n",
    "                            MIN(CASE WHEN gender = 'female' THEN height END) AS shortest_female,\n",
    "                            MIN(CASE WHEN gender = 'male' THEN height END) AS shortest_male\n",
    "                           FROM drivers_license\n",
    "                           \"\"\") # Define the query - text() ensures that the query string is read as a SQL expression\n",
    "    min_max_case = pd.read_sql(min_max_case, connection) # Use pandas to read the sql query with the connection to the database\n",
    "\n",
    "# Print the results\n",
    "min_max_case"
   ]
  },
  {
   "cell_type": "markdown",
   "id": "8b3de393",
   "metadata": {},
   "source": [
    "**MIN() and MAX()** <br>\n",
    "AVG() will take the average of a numeric field.\n",
    "\n",
    "**Question:** What is the average check-in time for the gym in our database?"
   ]
  },
  {
   "cell_type": "code",
   "execution_count": 22,
   "id": "f1e63c19",
   "metadata": {},
   "outputs": [
    {
     "data": {
      "text/html": [
       "<div>\n",
       "<style scoped>\n",
       "    .dataframe tbody tr th:only-of-type {\n",
       "        vertical-align: middle;\n",
       "    }\n",
       "\n",
       "    .dataframe tbody tr th {\n",
       "        vertical-align: top;\n",
       "    }\n",
       "\n",
       "    .dataframe thead th {\n",
       "        text-align: right;\n",
       "    }\n",
       "</style>\n",
       "<table border=\"1\" class=\"dataframe\">\n",
       "  <thead>\n",
       "    <tr style=\"text-align: right;\">\n",
       "      <th></th>\n",
       "      <th>AVG(check_in_time)</th>\n",
       "    </tr>\n",
       "  </thead>\n",
       "  <tbody>\n",
       "    <tr>\n",
       "      <th>0</th>\n",
       "      <td>600.537921</td>\n",
       "    </tr>\n",
       "  </tbody>\n",
       "</table>\n",
       "</div>"
      ],
      "text/plain": [
       "   AVG(check_in_time)\n",
       "0          600.537921"
      ]
     },
     "execution_count": 22,
     "metadata": {},
     "output_type": "execute_result"
    }
   ],
   "source": [
    "with engine.connect() as connection: # Establish a connection\n",
    "    average = text(\"\"\"SELECT AVG(check_in_time)\n",
    "                      FROM get_fit_now_check_in\n",
    "                      \"\"\") # Define the query - text() ensures that the query string is read as a SQL expression\n",
    "    average = pd.read_sql(average, connection) # Use pandas to read the sql query with the connection to the database\n",
    "\n",
    "# Print the results\n",
    "average"
   ]
  },
  {
   "cell_type": "markdown",
   "id": "697a553a",
   "metadata": {},
   "source": [
    "Although this query gives us a quick answer, as a stand alone data frame, it is not that useful. We can add it to our longer query above. <br><br>\n",
    "**Aliases (AS)**\n",
    "<br>\n",
    "You can abbreviate your code to make it more visually appealing...or more confusing? :) <br>\n",
    "<br>\n",
    "Examples:<br>\n",
    "FROM table_name t<br>\n",
    "FROM table_name AS t<br>\n",
    "<br>\n",
    "**Objective:** Use abbreviations or aliases for all tables for the same code you wrote above (If you have not done so already). Be sure to obtain the same result set."
   ]
  },
  {
   "cell_type": "code",
   "execution_count": 24,
   "id": "366c4280",
   "metadata": {},
   "outputs": [
    {
     "data": {
      "text/html": [
       "<div>\n",
       "<style scoped>\n",
       "    .dataframe tbody tr th:only-of-type {\n",
       "        vertical-align: middle;\n",
       "    }\n",
       "\n",
       "    .dataframe tbody tr th {\n",
       "        vertical-align: top;\n",
       "    }\n",
       "\n",
       "    .dataframe thead th {\n",
       "        text-align: right;\n",
       "    }\n",
       "</style>\n",
       "<table border=\"1\" class=\"dataframe\">\n",
       "  <thead>\n",
       "    <tr style=\"text-align: right;\">\n",
       "      <th></th>\n",
       "      <th>count</th>\n",
       "      <th>height_group</th>\n",
       "    </tr>\n",
       "  </thead>\n",
       "  <tbody>\n",
       "    <tr>\n",
       "      <th>0</th>\n",
       "      <td>3613</td>\n",
       "      <td>Between 5 and 6 feet tall</td>\n",
       "    </tr>\n",
       "    <tr>\n",
       "      <th>1</th>\n",
       "      <td>3389</td>\n",
       "      <td>Between 6 and 7 feet tall</td>\n",
       "    </tr>\n",
       "    <tr>\n",
       "      <th>2</th>\n",
       "      <td>3004</td>\n",
       "      <td>Between 4 and 5 feet tall</td>\n",
       "    </tr>\n",
       "    <tr>\n",
       "      <th>3</th>\n",
       "      <td>1</td>\n",
       "      <td>7 feet tall or over</td>\n",
       "    </tr>\n",
       "  </tbody>\n",
       "</table>\n",
       "</div>"
      ],
      "text/plain": [
       "   count               height_group\n",
       "0   3613  Between 5 and 6 feet tall\n",
       "1   3389  Between 6 and 7 feet tall\n",
       "2   3004  Between 4 and 5 feet tall\n",
       "3      1        7 feet tall or over"
      ]
     },
     "execution_count": 24,
     "metadata": {},
     "output_type": "execute_result"
    }
   ],
   "source": [
    "with engine.connect() as connection: # Establish a connection\n",
    "    aliases = text(\"\"\"SELECT COUNT(*) AS count,\n",
    "                      CASE\n",
    "                              WHEN height >= 84 THEN '7 feet tall or over'\n",
    "                              WHEN height >= 72 THEN 'Between 6 and 7 feet tall'\n",
    "                              WHEN height >= 60 THEN 'Between 5 and 6 feet tall'\n",
    "                              WHEN height >= 48 THEN 'Between 4 and 5 feet tall'\n",
    "                              ELSE 'Under 4 feet tall'\n",
    "                          END AS height_group\n",
    "                      FROM drivers_license AS d_l\n",
    "                      GROUP BY height_group\n",
    "                      ORDER BY count DESC\n",
    "                      \"\"\") # Define the query - text() ensures that the query string is read as a SQL expression\n",
    "    aliases = pd.read_sql(aliases, connection) # Use pandas to read the sql query with the connection to the database\n",
    "\n",
    "# Print the results\n",
    "aliases"
   ]
  },
  {
   "cell_type": "markdown",
   "id": "5c91b2e7",
   "metadata": {},
   "source": [
    "Now we are starting to create multiple new fields that we can save any time as a .csv if needed to access later. Save your result set as a .csv:"
   ]
  },
  {
   "cell_type": "code",
   "execution_count": 26,
   "id": "863fb822",
   "metadata": {},
   "outputs": [],
   "source": [
    "# Save result set as .csv file:\n",
    "aliases.to_csv(\"test.csv\", index=False)"
   ]
  },
  {
   "cell_type": "markdown",
   "id": "4f772ff9",
   "metadata": {},
   "source": [
    "**DELETE** ~Caution!~\n",
    "<br>\n",
    "You can delete all records from specific tables or set a criteria to delete certain values or NULL values without deleting the table itself. It is okay if you do not execute the code if you have completed all data cleaning steps earlier in the semester.<br>\n",
    "<br>\n",
    "If you created autoincrement IDs for any of your data, it is recommended to use TRUNCATE TABLE instead, used the same way. The ID's will automatically reset if needed.<br>\n",
    "<br>\n",
    "**Objective:** Delete my name from the database, after I added it above.\n",
    "<br>\n",
    "**What table(s) are we deleting records from?** person"
   ]
  },
  {
   "cell_type": "code",
   "execution_count": 28,
   "id": "5c796996",
   "metadata": {},
   "outputs": [],
   "source": [
    "with engine.connect() as connection: # Establish a connection\n",
    "    delete = text(\"\"\"DELETE FROM person\n",
    "                     WHERE name = 'Thompson Morgan'\n",
    "                     \"\"\") # Delete from the 'person' table the specified value for the 'name' field\n",
    "    connection.execute(delete)\n",
    "    connection.commit()"
   ]
  },
  {
   "cell_type": "markdown",
   "id": "e7f7cf8e",
   "metadata": {},
   "source": [
    "We can also delete entire tables in MySQL workbench by manually right clicking on the table and DROP TABLE. <br>\n",
    "MySQL Workbench will prompt you to review the SQL syntax before dropping the table.<br>\n",
    "The syntax is simple:<br>\n",
    "DROP TABLE table_name<br>"
   ]
  },
  {
   "cell_type": "code",
   "execution_count": 30,
   "id": "58cbf160",
   "metadata": {},
   "outputs": [],
   "source": [
    "# Close the database connection :)\n",
    "connection.close()"
   ]
  },
  {
   "cell_type": "markdown",
   "id": "0ff1d169",
   "metadata": {},
   "source": [
    "**STOP**<br>\n",
    "Before you submit, did you comment all your code?<br>\n",
    "Did you answer all of the questions in the markdown cells?<br>\n",
    "Did you rename the file and write your name at the top of the .pynb?<br>\n",
    "Attach the .csv file you created with your Blackboard submission. It is preferred that you submit your Github link instead of the file itself."
   ]
  }
 ],
 "metadata": {
  "kernelspec": {
   "display_name": "Python [conda env:base] *",
   "language": "python",
   "name": "conda-base-py"
  },
  "language_info": {
   "codemirror_mode": {
    "name": "ipython",
    "version": 3
   },
   "file_extension": ".py",
   "mimetype": "text/x-python",
   "name": "python",
   "nbconvert_exporter": "python",
   "pygments_lexer": "ipython3",
   "version": "3.12.7"
  }
 },
 "nbformat": 4,
 "nbformat_minor": 5
}
