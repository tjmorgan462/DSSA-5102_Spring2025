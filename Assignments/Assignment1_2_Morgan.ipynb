{
 "cells": [
  {
   "cell_type": "markdown",
   "id": "c825ca7c",
   "metadata": {},
   "source": [
    "# Assignment #1 - Data Gathering and Warehousing - DSSA-5102"
   ]
  },
  {
   "cell_type": "markdown",
   "id": "3e792669",
   "metadata": {},
   "source": [
    "Instructor: Melissa Laurino<br>\n",
    "Spring 2025"
   ]
  },
  {
   "cell_type": "markdown",
   "id": "b1cc91ed-f788-4da4-a4ae-c1644b55bbf1",
   "metadata": {},
   "source": [
    "Name: Thompson Morgan\n",
    "<br>\n",
    "Date: 2/13/25"
   ]
  },
  {
   "cell_type": "markdown",
   "id": "292e9143",
   "metadata": {},
   "source": [
    "<b>Data. Is. Everywhere.</b> <br>\n",
    "Our first objective is to locate and explore <b>TWO</b> datasets about something you are passionate about, or related to a field you would like to work in. Our semester plan is <i>try</i> to work with the same dataset throughout the semester. You can find and explore as many datasets as you wish, but Assignment #2 will focus on the one you like the best.\n",
    "There are many great websites that offer public datasets available to download. Examples include but are not limited to:\n",
    "<br>\n",
    "Data.gov - https://data.gov/ - has many government owned public datasets.<br>\n",
    "World Bank Data - https://data.worldbank.org/ - has world economic, social, and environmental data.<br>\n",
    "Google Dataset Search - https://datasetsearch.research.google.com/ - many of these available datasets link to published studies available on Google Scholar in many fields.<br>\n",
    "Kaggle Datasets - https://www.kaggle.com/datasets - a platform for sharing datasets. Anyone can upload to this website.<br>\n",
    "U.S. Census Bureau - https://www.census.gov/ - data on people, places and economy for the United States.<br>\n",
    "GitHub - https://github.com/ - hosts datasets and completed projects.<br>\n",
    "Federal Reserve Economic Data (FRED) - https://fred.stlouisfed.org/ - Financial and economic data.<br>\n",
    "CDC - https://data.cdc.gov/ - Explore the various data collected by the CDC.<br>\n",
    "NOAA - https://www.ncei.noaa.gov/cdo-web/ - NOAA climate and ocean data. <br>\n",
    "<br>\n",
    "In addition to these resources, occasionally local organizations may be able to provide you with data, or maybe even your own company! Your data source can come from a personal connection, but please be mindful of any data agreements or approvals you may need. If you need approval to use data from your place of employment, please specify that with the instructor so we can ensure no violations to your data agreement will be made this semester.\n",
    "<br>\n",
    "<br>\n",
    "Resources for learning Python:\n",
    "- Data camp - https://www.datacamp.com/category/python - Contact Professor Baldwin for access.<br>\n",
    "- Data Science from Scratch: First Principles with Python - Check Blackboard <br>\n",
    "- Python for Data Analysis Data Wrangling with pandas, NumPy & Jupyter - Check Blackboard"
   ]
  },
  {
   "cell_type": "markdown",
   "id": "712dad64-6ed8-4680-90b7-4e47833e6887",
   "metadata": {},
   "source": [
    "For Assignment #1, our objective is to locate and explore two different datasets using Python. We will choose one of these datasets to clean to prepare for our future database. For each dataset include: <br>\n",
    "- The dataset name, company/organization responsible for data collection, the download link, and date of access. <br>\n",
    "- Load necessary packages <br>\n",
    "- Obtain the general info for your data such as size, number of rows/columns, column names, describing the data etc. <br>\n",
    "- What are the unique columns or variables present in your dataset? <br>\n",
    "- Create one quick plot to visualize your data. It is okay if it is messy since your data has not been cleaned yet, but still make sure you are practicing good visualization with a title, axis labels, and anything else needed for your graph.  <br>\n",
    "\n",
    "Comment ALL code to receive full credit. The above bullet points are to help guide you in your process, but extensive exploration is expected for each data set. <br>\n",
    "<br>\n",
    "Explore various markdown font settings: https://ingeh.medium.com/markdown-for-jupyter-notebooks-cheatsheet-386c05aeebed"
   ]
  },
  {
   "cell_type": "markdown",
   "id": "6c5eadb4",
   "metadata": {},
   "source": [
    "## Dataset #1"
   ]
  },
  {
   "cell_type": "markdown",
   "id": "0bf03c2c",
   "metadata": {},
   "source": [
    "<b>Dataset name: </b> Indicators of Anxiety or Depression Based on Reported Frequency of Symptoms During Last 7 Days <br>\n",
    "<b>Company/Government Organization: </b> National Center for Health Statistics <br>\n",
    "<b>Download link: </b> https://data.cdc.gov/NCHS/Indicators-of-Anxiety-or-Depression-Based-on-Repor/8pt5-q6wp/about_data <br>\n",
    "<b>Date of Access: </b> 2/13/25"
   ]
  },
  {
   "cell_type": "markdown",
   "id": "55a352bf",
   "metadata": {},
   "source": [
    "Popular packages to load in working with Python: <br>\n",
    "pandas: https://pandas.pydata.org/about/index.html <br>\n",
    "numpy: https://numpy.org/learn/ <br>\n",
    "matplotlib: https://matplotlib.org/stable/api/pyplot_summary.html"
   ]
  },
  {
   "cell_type": "code",
   "execution_count": 440,
   "id": "f274f2ae",
   "metadata": {
    "scrolled": true
   },
   "outputs": [],
   "source": [
    "# Loading libraries\n",
    "import pandas as pd # Reads, writes, shapes, manipulates data\n",
    "import numpy as np # Basic stats and numerical operations\n",
    "import matplotlib.pyplot as plt # Creating basic graphs"
   ]
  },
  {
   "cell_type": "markdown",
   "id": "79c86913",
   "metadata": {},
   "source": [
    "Importing a library as an abbreviation is beneficial to shorten your code and make it more concise. <br>\n",
    "For example, when referencing your data frame without the abbreviation you would write: pandas.DataFrame <br>\n",
    "With an abbreviation, you can just write: pd.DataFrame"
   ]
  },
  {
   "cell_type": "markdown",
   "id": "de7e9968-efb1-482d-b7f7-c309228fbbde",
   "metadata": {},
   "source": [
    "Load your chosen dataset into the notebook below:"
   ]
  },
  {
   "cell_type": "code",
   "execution_count": 442,
   "id": "2fc0d288",
   "metadata": {},
   "outputs": [],
   "source": [
    "# Load the locally stored CSV file as a dataframe\n",
    "df = pd.read_csv(\"Indicators_of_Anxiety_or_Depression_Based_on_Reported_Frequency_of_Symptoms_During_Last_7_Days.csv\")"
   ]
  },
  {
   "cell_type": "markdown",
   "id": "2d345116-947c-4fa3-ac6f-435a8ea06fcb",
   "metadata": {},
   "source": [
    "We can run df.info() to see how large the dataframe is:"
   ]
  },
  {
   "cell_type": "code",
   "execution_count": 444,
   "id": "bfe1d023-2f96-48af-945a-95ce54d937e5",
   "metadata": {},
   "outputs": [
    {
     "name": "stdout",
     "output_type": "stream",
     "text": [
      "<class 'pandas.core.frame.DataFrame'>\n",
      "RangeIndex: 16794 entries, 0 to 16793\n",
      "Data columns (total 14 columns):\n",
      " #   Column                  Non-Null Count  Dtype  \n",
      "---  ------                  --------------  -----  \n",
      " 0   Indicator               16794 non-null  object \n",
      " 1   Group                   16794 non-null  object \n",
      " 2   State                   16794 non-null  object \n",
      " 3   Subgroup                16794 non-null  object \n",
      " 4   Phase                   16794 non-null  object \n",
      " 5   Time Period             16794 non-null  int64  \n",
      " 6   Time Period Label       16794 non-null  object \n",
      " 7   Time Period Start Date  16794 non-null  object \n",
      " 8   Time Period End Date    16794 non-null  object \n",
      " 9   Value                   16087 non-null  float64\n",
      " 10  Low CI                  16087 non-null  float64\n",
      " 11  High CI                 16087 non-null  float64\n",
      " 12  Confidence Interval     16087 non-null  object \n",
      " 13  Quartile Range          11017 non-null  object \n",
      "dtypes: float64(3), int64(1), object(10)\n",
      "memory usage: 1.8+ MB\n"
     ]
    }
   ],
   "source": [
    "# Printing a summary of the dataframe\n",
    "df.info()"
   ]
  },
  {
   "cell_type": "markdown",
   "id": "741d90c8",
   "metadata": {},
   "source": [
    "What are the unique columns or variables present in your dataset? How many rows are there?"
   ]
  },
  {
   "cell_type": "code",
   "execution_count": 446,
   "id": "4b0ba15e-1210-4114-992b-157d5ebfa9f5",
   "metadata": {},
   "outputs": [
    {
     "name": "stdout",
     "output_type": "stream",
     "text": [
      "['Indicator', 'Group', 'State', 'Subgroup', 'Phase', 'Time Period', 'Time Period Label', 'Time Period Start Date', 'Time Period End Date', 'Value', 'Low CI', 'High CI', 'Confidence Interval', 'Quartile Range']\n",
      "\n",
      "There are 14 columns in the dataset. \n",
      "\n",
      "There are 16794 rows in the dataset. \n",
      "\n"
     ]
    }
   ],
   "source": [
    "# What are the unique column names?\n",
    "print(df.columns.tolist()) # Printing a list of all the column names\n",
    "\n",
    "# Find and print the total number of columns\n",
    "number_columns = len(df.columns)\n",
    "print(\"\\nThere are\", number_columns, \"columns in the dataset. \\n\")\n",
    "\n",
    "# Find and print the total number of rows\n",
    "number_rows = len(df)\n",
    "print(\"There are\", number_rows, \"rows in the dataset. \\n\")"
   ]
  },
  {
   "cell_type": "markdown",
   "id": "e24b6448-b634-4b7a-9c69-f9a9353cb354",
   "metadata": {},
   "source": [
    "Use print(\" \") statements in python to print text or variables in the output. <br>\n",
    "Use \\n in the print statement to skip a line. Without skipping a line, everything prints close together."
   ]
  },
  {
   "cell_type": "code",
   "execution_count": 448,
   "id": "26525152-01c2-43ce-8b4d-1720a337892f",
   "metadata": {},
   "outputs": [
    {
     "data": {
      "text/html": [
       "<div>\n",
       "<style scoped>\n",
       "    .dataframe tbody tr th:only-of-type {\n",
       "        vertical-align: middle;\n",
       "    }\n",
       "\n",
       "    .dataframe tbody tr th {\n",
       "        vertical-align: top;\n",
       "    }\n",
       "\n",
       "    .dataframe thead th {\n",
       "        text-align: right;\n",
       "    }\n",
       "</style>\n",
       "<table border=\"1\" class=\"dataframe\">\n",
       "  <thead>\n",
       "    <tr style=\"text-align: right;\">\n",
       "      <th></th>\n",
       "      <th>Time Period</th>\n",
       "      <th>Value</th>\n",
       "      <th>Low CI</th>\n",
       "      <th>High CI</th>\n",
       "    </tr>\n",
       "  </thead>\n",
       "  <tbody>\n",
       "    <tr>\n",
       "      <th>count</th>\n",
       "      <td>16794.000000</td>\n",
       "      <td>16087.000000</td>\n",
       "      <td>16087.000000</td>\n",
       "      <td>16087.000000</td>\n",
       "    </tr>\n",
       "    <tr>\n",
       "      <th>mean</th>\n",
       "      <td>35.922830</td>\n",
       "      <td>28.140946</td>\n",
       "      <td>24.642270</td>\n",
       "      <td>31.893181</td>\n",
       "    </tr>\n",
       "    <tr>\n",
       "      <th>std</th>\n",
       "      <td>21.530312</td>\n",
       "      <td>8.951691</td>\n",
       "      <td>8.593666</td>\n",
       "      <td>9.481899</td>\n",
       "    </tr>\n",
       "    <tr>\n",
       "      <th>min</th>\n",
       "      <td>1.000000</td>\n",
       "      <td>4.600000</td>\n",
       "      <td>3.300000</td>\n",
       "      <td>6.000000</td>\n",
       "    </tr>\n",
       "    <tr>\n",
       "      <th>25%</th>\n",
       "      <td>17.000000</td>\n",
       "      <td>22.100000</td>\n",
       "      <td>18.700000</td>\n",
       "      <td>25.500000</td>\n",
       "    </tr>\n",
       "    <tr>\n",
       "      <th>50%</th>\n",
       "      <td>37.000000</td>\n",
       "      <td>27.700000</td>\n",
       "      <td>24.100000</td>\n",
       "      <td>31.600000</td>\n",
       "    </tr>\n",
       "    <tr>\n",
       "      <th>75%</th>\n",
       "      <td>55.000000</td>\n",
       "      <td>33.400000</td>\n",
       "      <td>29.700000</td>\n",
       "      <td>37.400000</td>\n",
       "    </tr>\n",
       "    <tr>\n",
       "      <th>max</th>\n",
       "      <td>72.000000</td>\n",
       "      <td>85.200000</td>\n",
       "      <td>79.900000</td>\n",
       "      <td>89.500000</td>\n",
       "    </tr>\n",
       "  </tbody>\n",
       "</table>\n",
       "</div>"
      ],
      "text/plain": [
       "        Time Period         Value        Low CI       High CI\n",
       "count  16794.000000  16087.000000  16087.000000  16087.000000\n",
       "mean      35.922830     28.140946     24.642270     31.893181\n",
       "std       21.530312      8.951691      8.593666      9.481899\n",
       "min        1.000000      4.600000      3.300000      6.000000\n",
       "25%       17.000000     22.100000     18.700000     25.500000\n",
       "50%       37.000000     27.700000     24.100000     31.600000\n",
       "75%       55.000000     33.400000     29.700000     37.400000\n",
       "max       72.000000     85.200000     79.900000     89.500000"
      ]
     },
     "execution_count": 448,
     "metadata": {},
     "output_type": "execute_result"
    }
   ],
   "source": [
    "# Describe the numerical columns\n",
    "df.describe()"
   ]
  },
  {
   "cell_type": "code",
   "execution_count": 450,
   "id": "65652edf",
   "metadata": {},
   "outputs": [
    {
     "name": "stdout",
     "output_type": "stream",
     "text": [
      "Indicator                  object\n",
      "Group                      object\n",
      "State                      object\n",
      "Subgroup                   object\n",
      "Phase                      object\n",
      "Time Period                 int64\n",
      "Time Period Label          object\n",
      "Time Period Start Date     object\n",
      "Time Period End Date       object\n",
      "Value                     float64\n",
      "Low CI                    float64\n",
      "High CI                   float64\n",
      "Confidence Interval        object\n",
      "Quartile Range             object\n",
      "dtype: object\n"
     ]
    }
   ],
   "source": [
    "# Look more closely at the data types\n",
    "print(df.dtypes)"
   ]
  },
  {
   "cell_type": "code",
   "execution_count": 452,
   "id": "e554c1a0-9002-4b0a-98fd-02e52156ca38",
   "metadata": {},
   "outputs": [
    {
     "data": {
      "text/plain": [
       "['National Estimate',\n",
       " 'By Age',\n",
       " 'By Sex',\n",
       " 'By Race/Hispanic ethnicity',\n",
       " 'By Education',\n",
       " 'By State',\n",
       " 'By Disability status',\n",
       " 'By Gender identity',\n",
       " 'By Sexual orientation']"
      ]
     },
     "execution_count": 452,
     "metadata": {},
     "output_type": "execute_result"
    }
   ],
   "source": [
    "# Explore the values of a category column\n",
    "df['Group'].unique().tolist() # Printing a list of the unique values for the 'Group' column"
   ]
  },
  {
   "cell_type": "markdown",
   "id": "b913643b",
   "metadata": {},
   "source": [
    "Create one graph to quickly visualize your data using matplotlib. <br>\n",
    "Matplotlib color guide: https://i.sstatic.net/lFZum.png <br><br>\n",
    "It's okay if it is not visually appealing or contains outliers, because we have not cleaned our data yet! Did you get any errors? If so, what were they? Would the errors have been avoided if you had cleaned the data first?<br>\n",
    "Data cleaning and transforming is very important when storing your data in a warehouse...ready for Assignment #2?"
   ]
  },
  {
   "cell_type": "code",
   "execution_count": 454,
   "id": "15eda6b3-d9ca-499a-9cf1-5699c191e92e",
   "metadata": {},
   "outputs": [
    {
     "data": {
      "text/plain": [
       "Text(0, 0.5, 'Value Given')"
      ]
     },
     "execution_count": 454,
     "metadata": {},
     "output_type": "execute_result"
    },
    {
     "data": {
      "image/png": "[encoded data removed]",
      "text/plain": [
       "<Figure size 640x480 with 1 Axes>"
      ]
     },
     "metadata": {},
     "output_type": "display_data"
    }
   ],
   "source": [
    "# Creating a subset of the dataframe to graph data for symptoms of both disorders grouped together and for the state of New Jersey\n",
    "df_two = df[(df['Indicator'] == 'Symptoms of Anxiety Disorder or Depressive Disorder') & (df['State'] == 'New Jersey')]\n",
    "\n",
    "# Creating a graph\n",
    "plt.plot(df_two['Time Period'], df_two['Value'])\n",
    "plt.title('Scores of Anxiety or Depression in the State of New Jersey over time') # Graph title\n",
    "plt.xlabel('Number of Study') # X-axis Label\n",
    "plt.ylabel('Value Given') # Y-axis Label"
   ]
  },
  {
   "cell_type": "markdown",
   "id": "66148a29-4947-456f-956b-414b3f0591bb",
   "metadata": {},
   "source": [
    "There were no errors when running the graph code."
   ]
  },
  {
   "cell_type": "markdown",
   "id": "251688bc-3597-4eec-b1e1-c1e24e090b93",
   "metadata": {},
   "source": [
    "## Dataset #2"
   ]
  },
  {
   "cell_type": "markdown",
   "id": "17ba6fbf-6c3e-469e-bf3a-49fb9d16fc84",
   "metadata": {},
   "source": [
    "<b>Dataset name: </b> Meteorite Landings <br>\n",
    "<b>Company/Government Organization: </b> NASA Public Data <br>\n",
    "<b>Download link: </b> https://data.nasa.gov/Space-Science/Meteorite-Landings/gh4g-9sfh/about_data <br>\n",
    "<b>Date of Access: </b> 2/13/25"
   ]
  },
  {
   "cell_type": "code",
   "execution_count": 456,
   "id": "b4f74168-7ca6-4c93-8f2b-2b6892c7a8cb",
   "metadata": {},
   "outputs": [],
   "source": [
    "# Loading libraries\n",
    "import pandas as pd # Reads, writes, shapes, manipulates data\n",
    "import numpy as np # Basic stats and numerical operations\n",
    "import matplotlib.pyplot as plt # Creating basic graphs"
   ]
  },
  {
   "cell_type": "code",
   "execution_count": 458,
   "id": "4efa3d9f-e6ae-4c62-8517-1ef603939315",
   "metadata": {},
   "outputs": [],
   "source": [
    "# Load the locally stored CSV file as a dataframe\n",
    "ds = pd.read_csv(\"Meteorite_Landings.csv\")"
   ]
  },
  {
   "cell_type": "code",
   "execution_count": 460,
   "id": "4ddf3b8b-b39a-4785-952b-f271b226c8c3",
   "metadata": {},
   "outputs": [
    {
     "name": "stdout",
     "output_type": "stream",
     "text": [
      "<class 'pandas.core.frame.DataFrame'>\n",
      "RangeIndex: 45716 entries, 0 to 45715\n",
      "Data columns (total 10 columns):\n",
      " #   Column       Non-Null Count  Dtype  \n",
      "---  ------       --------------  -----  \n",
      " 0   name         45716 non-null  object \n",
      " 1   id           45716 non-null  int64  \n",
      " 2   nametype     45716 non-null  object \n",
      " 3   recclass     45716 non-null  object \n",
      " 4   mass (g)     45585 non-null  float64\n",
      " 5   fall         45716 non-null  object \n",
      " 6   year         45425 non-null  float64\n",
      " 7   reclat       38401 non-null  float64\n",
      " 8   reclong      38401 non-null  float64\n",
      " 9   GeoLocation  38401 non-null  object \n",
      "dtypes: float64(4), int64(1), object(5)\n",
      "memory usage: 3.5+ MB\n"
     ]
    }
   ],
   "source": [
    "# Printing a summary of the dataframe\n",
    "ds.info()"
   ]
  },
  {
   "cell_type": "code",
   "execution_count": 462,
   "id": "3fbfba8d-8065-4def-978d-0d5cf33b825f",
   "metadata": {},
   "outputs": [
    {
     "name": "stdout",
     "output_type": "stream",
     "text": [
      "['name', 'id', 'nametype', 'recclass', 'mass (g)', 'fall', 'year', 'reclat', 'reclong', 'GeoLocation']\n"
     ]
    }
   ],
   "source": [
    "# What are the unique column names?\n",
    "print(ds.columns.tolist()) # Printing a list of all the column names"
   ]
  },
  {
   "cell_type": "code",
   "execution_count": 464,
   "id": "50932d62-30f3-4ed6-9d80-af56240bec7a",
   "metadata": {},
   "outputs": [
    {
     "name": "stdout",
     "output_type": "stream",
     "text": [
      "\n",
      "There are 10 columns in the dataset. \n",
      "\n"
     ]
    }
   ],
   "source": [
    "# Find and print the total number of columns\n",
    "num_columns = len(ds.columns)\n",
    "print(\"\\nThere are\", num_columns, \"columns in the dataset. \\n\")"
   ]
  },
  {
   "cell_type": "code",
   "execution_count": 466,
   "id": "8a4d3430-3001-4a06-a7e6-2a9728fa0b0d",
   "metadata": {},
   "outputs": [
    {
     "name": "stdout",
     "output_type": "stream",
     "text": [
      "There are 45716 rows in the dataset. \n",
      "\n"
     ]
    }
   ],
   "source": [
    "# Find and print the total number of rows\n",
    "num_rows = len(ds)\n",
    "print(\"There are\", num_rows, \"rows in the dataset. \\n\")"
   ]
  },
  {
   "cell_type": "code",
   "execution_count": 468,
   "id": "9ce986ef-0427-41d8-8e7f-edccc11fef22",
   "metadata": {},
   "outputs": [
    {
     "data": {
      "text/html": [
       "<div>\n",
       "<style scoped>\n",
       "    .dataframe tbody tr th:only-of-type {\n",
       "        vertical-align: middle;\n",
       "    }\n",
       "\n",
       "    .dataframe tbody tr th {\n",
       "        vertical-align: top;\n",
       "    }\n",
       "\n",
       "    .dataframe thead th {\n",
       "        text-align: right;\n",
       "    }\n",
       "</style>\n",
       "<table border=\"1\" class=\"dataframe\">\n",
       "  <thead>\n",
       "    <tr style=\"text-align: right;\">\n",
       "      <th></th>\n",
       "      <th>id</th>\n",
       "      <th>mass (g)</th>\n",
       "      <th>year</th>\n",
       "      <th>reclat</th>\n",
       "      <th>reclong</th>\n",
       "    </tr>\n",
       "  </thead>\n",
       "  <tbody>\n",
       "    <tr>\n",
       "      <th>count</th>\n",
       "      <td>45716.000000</td>\n",
       "      <td>4.558500e+04</td>\n",
       "      <td>45425.000000</td>\n",
       "      <td>38401.000000</td>\n",
       "      <td>38401.000000</td>\n",
       "    </tr>\n",
       "    <tr>\n",
       "      <th>mean</th>\n",
       "      <td>26889.735104</td>\n",
       "      <td>1.327808e+04</td>\n",
       "      <td>1991.828817</td>\n",
       "      <td>-39.122580</td>\n",
       "      <td>61.074319</td>\n",
       "    </tr>\n",
       "    <tr>\n",
       "      <th>std</th>\n",
       "      <td>16860.683030</td>\n",
       "      <td>5.749889e+05</td>\n",
       "      <td>25.052766</td>\n",
       "      <td>46.378511</td>\n",
       "      <td>80.647298</td>\n",
       "    </tr>\n",
       "    <tr>\n",
       "      <th>min</th>\n",
       "      <td>1.000000</td>\n",
       "      <td>0.000000e+00</td>\n",
       "      <td>860.000000</td>\n",
       "      <td>-87.366670</td>\n",
       "      <td>-165.433330</td>\n",
       "    </tr>\n",
       "    <tr>\n",
       "      <th>25%</th>\n",
       "      <td>12688.750000</td>\n",
       "      <td>7.200000e+00</td>\n",
       "      <td>1987.000000</td>\n",
       "      <td>-76.714240</td>\n",
       "      <td>0.000000</td>\n",
       "    </tr>\n",
       "    <tr>\n",
       "      <th>50%</th>\n",
       "      <td>24261.500000</td>\n",
       "      <td>3.260000e+01</td>\n",
       "      <td>1998.000000</td>\n",
       "      <td>-71.500000</td>\n",
       "      <td>35.666670</td>\n",
       "    </tr>\n",
       "    <tr>\n",
       "      <th>75%</th>\n",
       "      <td>40656.750000</td>\n",
       "      <td>2.026000e+02</td>\n",
       "      <td>2003.000000</td>\n",
       "      <td>0.000000</td>\n",
       "      <td>157.166670</td>\n",
       "    </tr>\n",
       "    <tr>\n",
       "      <th>max</th>\n",
       "      <td>57458.000000</td>\n",
       "      <td>6.000000e+07</td>\n",
       "      <td>2101.000000</td>\n",
       "      <td>81.166670</td>\n",
       "      <td>354.473330</td>\n",
       "    </tr>\n",
       "  </tbody>\n",
       "</table>\n",
       "</div>"
      ],
      "text/plain": [
       "                 id      mass (g)          year        reclat       reclong\n",
       "count  45716.000000  4.558500e+04  45425.000000  38401.000000  38401.000000\n",
       "mean   26889.735104  1.327808e+04   1991.828817    -39.122580     61.074319\n",
       "std    16860.683030  5.749889e+05     25.052766     46.378511     80.647298\n",
       "min        1.000000  0.000000e+00    860.000000    -87.366670   -165.433330\n",
       "25%    12688.750000  7.200000e+00   1987.000000    -76.714240      0.000000\n",
       "50%    24261.500000  3.260000e+01   1998.000000    -71.500000     35.666670\n",
       "75%    40656.750000  2.026000e+02   2003.000000      0.000000    157.166670\n",
       "max    57458.000000  6.000000e+07   2101.000000     81.166670    354.473330"
      ]
     },
     "execution_count": 468,
     "metadata": {},
     "output_type": "execute_result"
    }
   ],
   "source": [
    "# Describe the numerical columns\n",
    "ds.describe()"
   ]
  },
  {
   "cell_type": "markdown",
   "id": "a46e29a0-7a7d-4107-8e04-ed68b7e8ea33",
   "metadata": {},
   "source": [
    "The max in the 'year' column is listed as 2101, which is impossible. If I had to guess, the correct year is either 2011 or 2001 for the row where the incorrect value was entered."
   ]
  },
  {
   "cell_type": "code",
   "execution_count": 470,
   "id": "fd7f937a-70fc-4b92-9a2a-2402a09b9d24",
   "metadata": {},
   "outputs": [
    {
     "name": "stdout",
     "output_type": "stream",
     "text": [
      "name            object\n",
      "id               int64\n",
      "nametype        object\n",
      "recclass        object\n",
      "mass (g)       float64\n",
      "fall            object\n",
      "year           float64\n",
      "reclat         float64\n",
      "reclong        float64\n",
      "GeoLocation     object\n",
      "dtype: object\n"
     ]
    }
   ],
   "source": [
    "# Look more closely at the data types\n",
    "print(ds.dtypes)"
   ]
  },
  {
   "cell_type": "code",
   "execution_count": 472,
   "id": "4fce6b1d-9b2a-4f48-84b6-8ee79d89f94e",
   "metadata": {},
   "outputs": [
    {
     "data": {
      "text/plain": [
       "['Valid', 'Relict']"
      ]
     },
     "execution_count": 472,
     "metadata": {},
     "output_type": "execute_result"
    }
   ],
   "source": [
    "# Explore the values of a category column\n",
    "ds['nametype'].unique().tolist() # Printing a list of the unique values for the 'nametype' column"
   ]
  },
  {
   "cell_type": "code",
   "execution_count": 474,
   "id": "0b817704-977a-4818-bbfa-77b9d749f7d5",
   "metadata": {},
   "outputs": [
    {
     "data": {
      "text/plain": [
       "Text(0, 0.5, 'Count')"
      ]
     },
     "execution_count": 474,
     "metadata": {},
     "output_type": "execute_result"
    },
    {
     "data": {
      "image/png": "[encoded data removed]",
      "text/plain": [
       "<Figure size 640x480 with 1 Axes>"
      ]
     },
     "metadata": {},
     "output_type": "display_data"
    }
   ],
   "source": [
    "# Finding how many times a meteorite landed each year\n",
    "counts = ds['year'].value_counts().sort_index()\n",
    "\n",
    "# Create one graph\n",
    "plt.plot(counts.index, counts.values)\n",
    "plt.title('Number of Meteorites that Landed over time') # Graph title\n",
    "plt.xlabel('Year') # X-axis Label\n",
    "plt.ylabel('Count') # Y-axis Label"
   ]
  },
  {
   "cell_type": "markdown",
   "id": "d0ea36a2-0636-43c4-945f-f13e8ac519aa",
   "metadata": {},
   "source": [
    "There were no errors when running the graph code. (Excluding the impossible 'year' value noted earlier)"
   ]
  },
  {
   "cell_type": "markdown",
   "id": "8ce67fcf",
   "metadata": {},
   "source": [
    "# Assignment #2 - Data Gathering and Warehousing - DSSA-5102\n",
    "\n",
    "Instructor: Melissa Laurino</br>\n",
    "Spring 2025</br>\n",
    "\n",
    "Our next objective is to choose <b>ONE</b> of the datasets from our previous assignment to explore further. The datasets we chose for Assignment #1 can be cleaned by practicing our Python skills. Depending on your data, and especially the size of it, it may be more beneficial to clean in a language you are comfortable working in already instead of cleaning our data with a new language like SQL. SQL may be needed for cleaning of databases that are very large or hundreds of terabytes in size. We will clean our datasets first before we attempt to load them into our SQL databases. </br>\n",
    "Not only is data everywhere, but it can also be messy. Messy data can originate in the data collection process, whether this is occurring with manual data entry and typos, or with outdated collection forms that hold multiple variables that mean the same thing. For example, while collecting data on marine mammals, it is important to note who the observer is. With Python and R, reading excel or csv files, these languages will take the same variable written as, \"Melissa Laurino\" and \"melissa laurino\" as two separate observers because they are case sensitive. However, this is not accurate because they are meant to be the same person within the observer column or category.</br>\n",
    "Clean data is important for consistency that leads to accurate results and analysis. If we are using our data to make informed decisions in our field, we need it to be clean. We do not want to omit rows that may make a difference to our dataset because they do not fit a certain criteria due to typos, but how much should the original dataset be altered? Depending on your field, there may be regulations and compliance standards regarding data quality. Protocols may state if the data does not read exactly how it should be, then it should be omitted. </br>\n",
    "For our learning objectives in this class, we will clean our data. Our first assignment in our warehousing journey was important because it allowed us to gain a better understanding of a dataset that we personally did not collect. Now that we have that understanding, we can explore it in greater depth and clean it as necessary.<br>\n",
    "<br>\n",
    "For Assignment #2, our objective is to clean one of the datasets explored above using Python to prepare for our future database from scratch. Include at a minimum:\n",
    "\n",
    "- The chosen dataset name, company/organization responsible for data collection, the download link, and date of access.\n",
    "- Load necessary packages and data (Only if you start a new session in Jupyter, not if you are continuing from above).\n",
    "- Make all column names lowercase, contain no spaces, and no special characters (SQL will not like this otherwise).\n",
    "- *Make detailed comments with your code* <br>\n",
    "- *Record EVERYTHING omitted and changed if necessary* <br>\n",
    "- Since we are exploring and learning without a specific organization policy, use your best judgement when omitting records. If you have chosen to omit data, please explain why.</br>\n",
    "- Save your new CLEAN data as a .csv file. \n",
    "\n",
    "\n",
    "Comment ALL code to receive full credit. The above bullet points are to help guide you in your process, but extensive cleaning is expected for your data set (This will also save you a lot of time down the line!). \n",
    "<br>\n",
    "\n",
    "<br>\n",
    "<b>The code that I have written below is just to give you ideas on exploring and cleaning data. It is encouraged that you explore and clean it in greater detail than what I have written below for full credit.</b><br>"
   ]
  },
  {
   "cell_type": "markdown",
   "id": "b07cb638-34d9-4342-92bb-f405ae1789cd",
   "metadata": {},
   "source": [
    "<b>Dataset name: </b> Indicators of Anxiety or Depression Based on Reported Frequency of Symptoms During Last 7 Days <br>\n",
    "<b>Company/Government Organization: </b> National Center for Health Statistics <br>\n",
    "<b>Download link: </b> https://data.cdc.gov/NCHS/Indicators-of-Anxiety-or-Depression-Based-on-Repor/8pt5-q6wp/about_data <br>\n",
    "<b>Date of Access: </b> 2/13/25"
   ]
  },
  {
   "cell_type": "markdown",
   "id": "a707f9e0-68fe-4304-8bbe-a13921b7bf78",
   "metadata": {},
   "source": [
    "Why did you choose to continue working with this dataset?: I chose to continue with this dataset because it is about mental health awareness, which is very important. It is also very organized, which helped me clean it effectively as I am new to coding with python. Based on the size and the way the data was entered, I think it will be a great dataset to practice and learn SQL."
   ]
  },
  {
   "cell_type": "code",
   "execution_count": 489,
   "id": "60537dfa-fbe8-4384-8ca0-ba9bffbfb9e3",
   "metadata": {},
   "outputs": [],
   "source": [
    "# Loading libraries\n",
    "import pandas as pd # Reads, writes, shapes, manipulates data\n",
    "import numpy as np # Basic stats and numerical operations\n",
    "import matplotlib.pyplot as plt # Creating basic graphs"
   ]
  },
  {
   "cell_type": "code",
   "execution_count": 491,
   "id": "5aa8fedb-5a32-434f-b885-93a332750a3f",
   "metadata": {},
   "outputs": [],
   "source": [
    "# Load the locally stored CSV file as a dataframe\n",
    "df = pd.read_csv(\"Indicators_of_Anxiety_or_Depression_Based_on_Reported_Frequency_of_Symptoms_During_Last_7_Days.csv\")"
   ]
  },
  {
   "cell_type": "markdown",
   "id": "671734a8-46a4-4d71-81e7-ce3c62f716b4",
   "metadata": {},
   "source": [
    "Make all column names lowercase, with no spaces or special characters:"
   ]
  },
  {
   "cell_type": "code",
   "execution_count": 620,
   "id": "79bf2359",
   "metadata": {
    "scrolled": true
   },
   "outputs": [],
   "source": [
    "# Renaming columns and saving as a new df\n",
    "df_clean = df.rename(columns={\"Indicator\": \"indicator\", \"Group\": \"group\", \"State\": \"state\", \"Subgroup\": \"subgroup\", \"Phase\": \"phase\", \"Time Period\": \"time_period\", \"Time Period Label\": \"time_period_label\", \"Time Period Start Date\": \"time_period_start\", \"Time Period End Date\": \"time_period_end\", \"Value\": \"value\", \"Low CI\": \"low_ci\", \"High CI\": \"high_ci\", \"Confidence Interval\": \"confidence_interval\", \"Quartile Range\": \"quartile_range\"})"
   ]
  },
  {
   "cell_type": "code",
   "execution_count": 531,
   "id": "e6ab7e05",
   "metadata": {},
   "outputs": [
    {
     "data": {
      "text/plain": [
       "indicator                 0\n",
       "group                     0\n",
       "state                     0\n",
       "subgroup                  0\n",
       "phase                     0\n",
       "time_period               0\n",
       "time_period_label         0\n",
       "time_period_start         0\n",
       "time_period_end           0\n",
       "value                   707\n",
       "low_ci                  707\n",
       "high_ci                 707\n",
       "confidence_interval     707\n",
       "quartile_range         5777\n",
       "dtype: int64"
      ]
     },
     "execution_count": 531,
     "metadata": {},
     "output_type": "execute_result"
    }
   ],
   "source": [
    "# Finding number of NA values in each column\n",
    "df_clean.isna().sum()"
   ]
  },
  {
   "cell_type": "code",
   "execution_count": 678,
   "id": "1d15dfb6-1933-4ead-b0bf-704be0e94530",
   "metadata": {},
   "outputs": [
    {
     "name": "stdout",
     "output_type": "stream",
     "text": [
      "<class 'pandas.core.frame.DataFrame'>\n",
      "Index: 707 entries, 2520 to 16416\n",
      "Data columns (total 14 columns):\n",
      " #   Column               Non-Null Count  Dtype  \n",
      "---  ------               --------------  -----  \n",
      " 0   indicator            707 non-null    object \n",
      " 1   group                707 non-null    object \n",
      " 2   state                707 non-null    object \n",
      " 3   subgroup             707 non-null    object \n",
      " 4   phase                707 non-null    object \n",
      " 5   time_period          707 non-null    int64  \n",
      " 6   time_period_label    707 non-null    object \n",
      " 7   time_period_start    707 non-null    object \n",
      " 8   time_period_end      707 non-null    object \n",
      " 9   value                0 non-null      float64\n",
      " 10  low_ci               0 non-null      float64\n",
      " 11  high_ci              0 non-null      float64\n",
      " 12  confidence_interval  0 non-null      object \n",
      " 13  quartile_range       1 non-null      object \n",
      "dtypes: float64(3), int64(1), object(10)\n",
      "memory usage: 82.9+ KB\n"
     ]
    }
   ],
   "source": [
    "cols_to_check = ['value', 'low_ci', 'high_ci', 'confidence_interval'] # Creating a variable to check the rows with 707 NA values listed above\n",
    "ds_clean = df_clean[cols_to_check].isna().all(axis=1) # Checking if values are NA or not with a new subset\n",
    "rows_with_all_na = df_clean[ds_clean] # Creating a new dataframe which contains all rows of the dataset that have at least one NA value\n",
    "rows_with_all_na.info() # Print a summary of the new subset"
   ]
  },
  {
   "cell_type": "markdown",
   "id": "c36493d4-a447-41d9-a656-1d9ce9854465",
   "metadata": {},
   "source": [
    "Based on the number of rows in the above dataframe, the 707 NA values for 'value', 'low_ci', 'high_ci', and 'confidence_interval' are all in the same rows. This is because there were some time periods where a study did not take place and they were entered as blanks into the dataset to keep the dates consistent."
   ]
  },
  {
   "cell_type": "code",
   "execution_count": 662,
   "id": "ea2a5820-f9a6-4bc2-9663-b7b162590151",
   "metadata": {},
   "outputs": [
    {
     "name": "stdout",
     "output_type": "stream",
     "text": [
      "group\n",
      "By Age                        1722\n",
      "By Race/Hispanic ethnicity    1230\n",
      "By Education                   984\n",
      "By Sex                         492\n",
      "By Sexual orientation          396\n",
      "By Gender identity             395\n",
      "By Disability status           312\n",
      "National Estimate              246\n",
      "Name: count, dtype: int64\n"
     ]
    }
   ],
   "source": [
    "na_rows = df_clean[df_clean['quartile_range'].isna()] # Finding rows where 'quartile_range' values are listed as NA\n",
    "print(na_rows['group'].value_counts()) # Printing the number of NA values for 'quartile_range' by 'group'"
   ]
  },
  {
   "cell_type": "markdown",
   "id": "22bc16d4-ed3f-4aff-885d-119fd946d4d6",
   "metadata": {},
   "source": [
    "As you can see, there are no NA values by state in the dataset for 'quartile_range'. This means that the 'quartile_range' was only calculated when the scores were looked at by each state, which explains why there are 5777 NA values for it in total. Adding up the above value counts gives a total of 5777, confirming what I suspected."
   ]
  },
  {
   "cell_type": "code",
   "execution_count": 680,
   "id": "96de4afc",
   "metadata": {},
   "outputs": [
    {
     "data": {
      "text/plain": [
       "['Symptoms of Depressive Disorder',\n",
       " 'Symptoms of Anxiety Disorder',\n",
       " 'Symptoms of Anxiety Disorder or Depressive Disorder']"
      ]
     },
     "execution_count": 680,
     "metadata": {},
     "output_type": "execute_result"
    }
   ],
   "source": [
    "# Looking for errors in the data by using unique()\n",
    "df_clean['indicator'].unique().tolist()"
   ]
  },
  {
   "cell_type": "code",
   "execution_count": 606,
   "id": "eb86068e",
   "metadata": {},
   "outputs": [
    {
     "data": {
      "text/plain": [
       "['National Estimate',\n",
       " 'By Age',\n",
       " 'By Sex',\n",
       " 'By Race/Hispanic ethnicity',\n",
       " 'By Education',\n",
       " 'By State',\n",
       " 'By Disability status',\n",
       " 'By Gender identity',\n",
       " 'By Sexual orientation']"
      ]
     },
     "execution_count": 606,
     "metadata": {},
     "output_type": "execute_result"
    }
   ],
   "source": [
    "# Looking for errors in the data by using unique()\n",
    "df_clean['group'].unique().tolist()"
   ]
  },
  {
   "cell_type": "code",
   "execution_count": 608,
   "id": "57e6e8b1",
   "metadata": {},
   "outputs": [
    {
     "data": {
      "text/plain": [
       "['United States',\n",
       " 'Alabama',\n",
       " 'Alaska',\n",
       " 'Arizona',\n",
       " 'Arkansas',\n",
       " 'California',\n",
       " 'Colorado',\n",
       " 'Connecticut',\n",
       " 'Delaware',\n",
       " 'District of Columbia',\n",
       " 'Florida',\n",
       " 'Georgia',\n",
       " 'Hawaii',\n",
       " 'Idaho',\n",
       " 'Illinois',\n",
       " 'Indiana',\n",
       " 'Iowa',\n",
       " 'Kansas',\n",
       " 'Kentucky',\n",
       " 'Louisiana',\n",
       " 'Maine',\n",
       " 'Maryland',\n",
       " 'Massachusetts',\n",
       " 'Michigan',\n",
       " 'Minnesota',\n",
       " 'Mississippi',\n",
       " 'Missouri',\n",
       " 'Montana',\n",
       " 'Nebraska',\n",
       " 'Nevada',\n",
       " 'New Hampshire',\n",
       " 'New Jersey',\n",
       " 'New Mexico',\n",
       " 'New York',\n",
       " 'North Carolina',\n",
       " 'North Dakota',\n",
       " 'Ohio',\n",
       " 'Oklahoma',\n",
       " 'Oregon',\n",
       " 'Pennsylvania',\n",
       " 'Rhode Island',\n",
       " 'South Carolina',\n",
       " 'South Dakota',\n",
       " 'Tennessee',\n",
       " 'Texas',\n",
       " 'Utah',\n",
       " 'Vermont',\n",
       " 'Virginia',\n",
       " 'Washington',\n",
       " 'West Virginia',\n",
       " 'Wisconsin',\n",
       " 'Wyoming']"
      ]
     },
     "execution_count": 608,
     "metadata": {},
     "output_type": "execute_result"
    }
   ],
   "source": [
    "# Looking for errors in the data by using unique()\n",
    "df_clean['state'].unique().tolist()"
   ]
  },
  {
   "cell_type": "code",
   "execution_count": 610,
   "id": "cb333a28-a23b-40d6-b273-b2b6e2549179",
   "metadata": {},
   "outputs": [
    {
     "data": {
      "text/plain": [
       "['United States',\n",
       " '18 - 29 years',\n",
       " '30 - 39 years',\n",
       " '40 - 49 years',\n",
       " '50 - 59 years',\n",
       " '60 - 69 years',\n",
       " '70 - 79 years',\n",
       " '80 years and above',\n",
       " 'Male',\n",
       " 'Female',\n",
       " 'Hispanic or Latino',\n",
       " 'Non-Hispanic White, single race',\n",
       " 'Non-Hispanic Black, single race',\n",
       " 'Non-Hispanic Asian, single race',\n",
       " 'Non-Hispanic, other races and multiple races',\n",
       " 'Less than a high school diploma',\n",
       " 'High school diploma or GED',\n",
       " \"Some college/Associate's degree\",\n",
       " \"Bachelor's degree or higher\",\n",
       " 'Alabama',\n",
       " 'Alaska',\n",
       " 'Arizona',\n",
       " 'Arkansas',\n",
       " 'California',\n",
       " 'Colorado',\n",
       " 'Connecticut',\n",
       " 'Delaware',\n",
       " 'District of Columbia',\n",
       " 'Florida',\n",
       " 'Georgia',\n",
       " 'Hawaii',\n",
       " 'Idaho',\n",
       " 'Illinois',\n",
       " 'Indiana',\n",
       " 'Iowa',\n",
       " 'Kansas',\n",
       " 'Kentucky',\n",
       " 'Louisiana',\n",
       " 'Maine',\n",
       " 'Maryland',\n",
       " 'Massachusetts',\n",
       " 'Michigan',\n",
       " 'Minnesota',\n",
       " 'Mississippi',\n",
       " 'Missouri',\n",
       " 'Montana',\n",
       " 'Nebraska',\n",
       " 'Nevada',\n",
       " 'New Hampshire',\n",
       " 'New Jersey',\n",
       " 'New Mexico',\n",
       " 'New York',\n",
       " 'North Carolina',\n",
       " 'North Dakota',\n",
       " 'Ohio',\n",
       " 'Oklahoma',\n",
       " 'Oregon',\n",
       " 'Pennsylvania',\n",
       " 'Rhode Island',\n",
       " 'South Carolina',\n",
       " 'South Dakota',\n",
       " 'Tennessee',\n",
       " 'Texas',\n",
       " 'Utah',\n",
       " 'Vermont',\n",
       " 'Virginia',\n",
       " 'Washington',\n",
       " 'West Virginia',\n",
       " 'Wisconsin',\n",
       " 'Wyoming',\n",
       " 'With disability',\n",
       " 'Without disability',\n",
       " 'Cis-gender male',\n",
       " 'Cis-gender female',\n",
       " 'Transgender',\n",
       " 'Gay or lesbian',\n",
       " 'Straight',\n",
       " 'Bisexual']"
      ]
     },
     "execution_count": 610,
     "metadata": {},
     "output_type": "execute_result"
    }
   ],
   "source": [
    "# Looking for errors in the data by using unique()\n",
    "df_clean['subgroup'].unique().tolist()"
   ]
  },
  {
   "cell_type": "code",
   "execution_count": 702,
   "id": "9de6dcfb-3b40-4126-a227-18488ab813bd",
   "metadata": {},
   "outputs": [
    {
     "name": "stdout",
     "output_type": "stream",
     "text": [
      "indicator                      object\n",
      "group                          object\n",
      "state                          object\n",
      "subgroup                       object\n",
      "phase                          object\n",
      "time_period                     int64\n",
      "time_period_label              object\n",
      "time_period_start      datetime64[ns]\n",
      "time_period_end        datetime64[ns]\n",
      "value                         float64\n",
      "low_ci                        float64\n",
      "high_ci                       float64\n",
      "confidence_interval            object\n",
      "quartile_range                 object\n",
      "dtype: object\n",
      "                         indicator              group          state  \\\n",
      "0  Symptoms of Depressive Disorder  National Estimate  United States   \n",
      "1  Symptoms of Depressive Disorder             By Age  United States   \n",
      "2  Symptoms of Depressive Disorder             By Age  United States   \n",
      "3  Symptoms of Depressive Disorder             By Age  United States   \n",
      "4  Symptoms of Depressive Disorder             By Age  United States   \n",
      "\n",
      "        subgroup phase  time_period     time_period_label time_period_start  \\\n",
      "0  United States     1            1  Apr 23 - May 5, 2020        2020-04-23   \n",
      "1  18 - 29 years     1            1  Apr 23 - May 5, 2020        2020-04-23   \n",
      "2  30 - 39 years     1            1  Apr 23 - May 5, 2020        2020-04-23   \n",
      "3  40 - 49 years     1            1  Apr 23 - May 5, 2020        2020-04-23   \n",
      "4  50 - 59 years     1            1  Apr 23 - May 5, 2020        2020-04-23   \n",
      "\n",
      "  time_period_end  value  low_ci  high_ci confidence_interval quartile_range  \n",
      "0      2020-05-05   23.5    22.7     24.3         22.7 - 24.3            NaN  \n",
      "1      2020-05-05   32.7    30.2     35.2         30.2 - 35.2            NaN  \n",
      "2      2020-05-05   25.7    24.1     27.3         24.1 - 27.3            NaN  \n",
      "3      2020-05-05   24.8    23.3     26.2         23.3 - 26.2            NaN  \n",
      "4      2020-05-05   23.2    21.5     25.0         21.5 - 25.0            NaN  \n"
     ]
    }
   ],
   "source": [
    "# Converting both the 'time_period_start' and 'time_period_end' columns to datetime format\n",
    "df_clean['time_period_start'] = pd.to_datetime(df_clean['time_period_start'])\n",
    "df_clean['time_period_end'] = pd.to_datetime(df_clean['time_period_end'])\n",
    "print(df_clean.dtypes) # Checking to make sure it worked\n",
    "print(df_clean.head()) # Checking to make sure it worked"
   ]
  },
  {
   "cell_type": "code",
   "execution_count": 710,
   "id": "2a29344a-96ff-4334-a424-ea5d57dacaf0",
   "metadata": {},
   "outputs": [],
   "source": [
    "# Saving my clean data as a new .csv file\n",
    "df_clean.to_csv('clean_Indicators_of_Anxiety_or_Depression_Based_on_Reported_Frequency_of_Symptoms_During_Last_7_Days.csv', index=False)"
   ]
  },
  {
   "cell_type": "code",
   "execution_count": null,
   "id": "997f1a61-770d-48c5-9a22-5e106a75b973",
   "metadata": {},
   "outputs": [],
   "source": []
  }
 ],
 "metadata": {
  "kernelspec": {
   "display_name": "Python [conda env:base] *",
   "language": "python",
   "name": "conda-base-py"
  },
  "language_info": {
   "codemirror_mode": {
    "name": "ipython",
    "version": 3
   },
   "file_extension": ".py",
   "mimetype": "text/x-python",
   "name": "python",
   "nbconvert_exporter": "python",
   "pygments_lexer": "ipython3",
   "version": "3.12.7"
  }
 },
 "nbformat": 4,
 "nbformat_minor": 5
}
